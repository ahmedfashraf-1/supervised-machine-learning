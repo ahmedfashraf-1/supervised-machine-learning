{
  "cells": [
    {
      "cell_type": "code",
      "execution_count": null,
      "metadata": {
        "id": "oP3TD4bd1BpB"
      },
      "outputs": [],
      "source": [
        "# we use factorization in multible linear regression to minimizae speed and memory and also its happend as parallel so its very useful\n"
      ]
    },
    {
      "cell_type": "code",
      "execution_count": 3,
      "metadata": {
        "id": "s1dfdkdf2Q7d"
      },
      "outputs": [],
      "source": [
        "import numpy as np"
      ]
    },
    {
      "cell_type": "code",
      "execution_count": 4,
      "metadata": {
        "id": "NYarC-sO2a5s"
      },
      "outputs": [],
      "source": [
        "a=np.zeros(5)"
      ]
    },
    {
      "cell_type": "code",
      "execution_count": 5,
      "metadata": {
        "colab": {
          "base_uri": "https://localhost:8080/"
        },
        "id": "exW0qimG2hCH",
        "outputId": "255424e7-cb9e-433a-a798-2be799f96b74"
      },
      "outputs": [
        {
          "data": {
            "text/plain": [
              "array([0., 0., 0., 0., 0.])"
            ]
          },
          "execution_count": 5,
          "metadata": {},
          "output_type": "execute_result"
        }
      ],
      "source": [
        "a"
      ]
    },
    {
      "cell_type": "code",
      "execution_count": 6,
      "metadata": {
        "colab": {
          "base_uri": "https://localhost:8080/"
        },
        "id": "IhJ0hrke2j6F",
        "outputId": "4b132da9-2e60-42ef-c39e-b5b42f86c3c5"
      },
      "outputs": [
        {
          "data": {
            "text/plain": [
              "array([0.45958904, 0.01322496, 0.88284841, 0.51758584, 0.31988102])"
            ]
          },
          "execution_count": 6,
          "metadata": {},
          "output_type": "execute_result"
        }
      ],
      "source": [
        "np.random.rand(5)\n",
        "# بتاخد الحجم علطول"
      ]
    },
    {
      "cell_type": "code",
      "execution_count": 7,
      "metadata": {
        "colab": {
          "base_uri": "https://localhost:8080/"
        },
        "id": "mrTGWYDN28Mf",
        "outputId": "c414229f-19f3-4876-8788-73d6473d5bcc"
      },
      "outputs": [
        {
          "data": {
            "text/plain": [
              "array([0.78740711, 0.31260243, 0.86737791, 0.86154065, 0.18020467])"
            ]
          },
          "execution_count": 7,
          "metadata": {},
          "output_type": "execute_result"
        }
      ],
      "source": [
        "np.random.random_sample((5))\n",
        "# بتاخد الحاجه ك tuple"
      ]
    },
    {
      "cell_type": "code",
      "execution_count": 8,
      "metadata": {
        "colab": {
          "base_uri": "https://localhost:8080/"
        },
        "id": "m6t3mIeE3DCe",
        "outputId": "ae7d8624-1a2c-40f4-c4e0-f2a9fa446611"
      },
      "outputs": [
        {
          "data": {
            "text/plain": [
              "array([0, 1, 2, 3, 4])"
            ]
          },
          "execution_count": 8,
          "metadata": {},
          "output_type": "execute_result"
        }
      ],
      "source": [
        "np.arange(5)"
      ]
    },
    {
      "cell_type": "code",
      "execution_count": 9,
      "metadata": {
        "colab": {
          "base_uri": "https://localhost:8080/"
        },
        "id": "y_W1nbpL3KGf",
        "outputId": "192a6b0b-bf82-4390-e240-7b671a1ad584"
      },
      "outputs": [
        {
          "name": "stdout",
          "output_type": "stream",
          "text": [
            "5\n",
            "int64\n"
          ]
        }
      ],
      "source": [
        "a=np.array([1,2,3,4,5])\n",
        "print(a.shape[0])\n",
        "print(a.dtype)"
      ]
    },
    {
      "cell_type": "code",
      "execution_count": 10,
      "metadata": {
        "colab": {
          "base_uri": "https://localhost:8080/"
        },
        "id": "OBtVvFRj3V6V",
        "outputId": "8f35f572-c08e-4e4e-9114-f3ff25584b01"
      },
      "outputs": [
        {
          "name": "stdout",
          "output_type": "stream",
          "text": [
            "[0 1 2 3 4 5 6 7 8 9]\n",
            "9\n"
          ]
        }
      ],
      "source": [
        "a=np.arange(10)\n",
        "print(a)\n",
        "print(a[-1])"
      ]
    },
    {
      "cell_type": "code",
      "execution_count": 11,
      "metadata": {
        "colab": {
          "base_uri": "https://localhost:8080/"
        },
        "id": "T4tqm9t8_mMB",
        "outputId": "9936bde9-d696-43a4-81f9-d62a876a666f"
      },
      "outputs": [
        {
          "name": "stdout",
          "output_type": "stream",
          "text": [
            "[0 1 2 3 4 5 6 7 8 9]\n",
            "[1 2 3 4 5 6 7 8 9]\n",
            "[0 1 2]\n"
          ]
        }
      ],
      "source": [
        "# a[start:end:steps]\n",
        "print(a[:])\n",
        "print(a[1:])\n",
        "print(a[:3])"
      ]
    },
    {
      "cell_type": "code",
      "execution_count": 12,
      "metadata": {
        "colab": {
          "base_uri": "https://localhost:8080/"
        },
        "id": "eINy2NrV_0GM",
        "outputId": "f90afdbc-29c8-420f-dafd-bc17308bbcdf"
      },
      "outputs": [
        {
          "name": "stdout",
          "output_type": "stream",
          "text": [
            "[1 2 3]\n",
            "[-1 -2 -3]\n",
            "6\n",
            "[2 4 6]\n",
            "2.0\n"
          ]
        }
      ],
      "source": [
        "a=np.array([1,2,3])\n",
        "print(a)\n",
        "b=-a\n",
        "print(b)\n",
        "b=np.sum(a)\n",
        "print(b)\n",
        "b=a*2\n",
        "print(b)\n",
        "print(a.mean())"
      ]
    },
    {
      "cell_type": "code",
      "execution_count": null,
      "metadata": {
        "id": "E2s-YnHWAQfq"
      },
      "outputs": [],
      "source": [
        "# لازم فالجمع والطرح يبقي عندي ساعتها نفس shape"
      ]
    },
    {
      "cell_type": "code",
      "execution_count": 13,
      "metadata": {
        "colab": {
          "base_uri": "https://localhost:8080/"
        },
        "id": "FtMqz_JzAWvG",
        "outputId": "27feda9b-ca2a-4a52-9096-2603d65dbd3b"
      },
      "outputs": [
        {
          "name": "stdout",
          "output_type": "stream",
          "text": [
            "32\n",
            "32\n"
          ]
        }
      ],
      "source": [
        "a=np.array([1,2,3])\n",
        "b=np.array([4,5,6])\n",
        "print(a@b)\n",
        "print(np.dot(a,b))"
      ]
    },
    {
      "cell_type": "code",
      "execution_count": 15,
      "metadata": {
        "colab": {
          "base_uri": "https://localhost:8080/"
        },
        "id": "2atIoFEPAnMC",
        "outputId": "73f8f7fe-dd13-4afa-f47b-11dd5e705fe8"
      },
      "outputs": [
        {
          "name": "stdout",
          "output_type": "stream",
          "text": [
            "[[0. 0.]\n",
            " [0. 0.]]\n"
          ]
        }
      ],
      "source": [
        "a=np.zeros((2,2))\n",
        "print(a)"
      ]
    },
    {
      "cell_type": "code",
      "execution_count": 18,
      "metadata": {
        "colab": {
          "base_uri": "https://localhost:8080/"
        },
        "id": "VzQpUUFhB9P0",
        "outputId": "c7bb70d3-8eac-4163-c1c8-62f90fd8d0ef"
      },
      "outputs": [
        {
          "name": "stdout",
          "output_type": "stream",
          "text": [
            "(3, 2)\n",
            "4\n"
          ]
        }
      ],
      "source": [
        "a=np.arange(6).reshape(-1,2)\n",
        "print(a.shape)\n",
        "print(a[2,0])"
      ]
    },
    {
      "cell_type": "code",
      "execution_count": 34,
      "metadata": {
        "colab": {
          "base_uri": "https://localhost:8080/"
        },
        "id": "aLoT0kZhCfO5",
        "outputId": "1b582c1a-eae2-4da0-cf45-a20b8a1dcb5d"
      },
      "outputs": [
        {
          "name": "stdout",
          "output_type": "stream",
          "text": [
            "(2, 10)\n",
            "[2 3 4 5 6]\n",
            "[[ 2  3  4  5  6]\n",
            " [12 13 14 15 16]]\n",
            "[[10 11 12 13 14 15 16 17 18 19]]\n",
            "[[ 0  1  2  3  4  5  6  7  8  9]\n",
            " [10 11 12 13 14 15 16 17 18 19]]\n",
            "[ 1 18]\n"
          ]
        }
      ],
      "source": [
        "a=np.arange(20).reshape(-1,10)\n",
        "print(a.shape)\n",
        "print(a[0,2:7:1])\n",
        "print(a[:,2:7 :1])\n",
        "print(a[1:])\n",
        "print(a[:,:])\n",
        "print(a[[0,1],[1,8]])"
      ]
    }
  ],
  "metadata": {
    "colab": {
      "provenance": []
    },
    "kernelspec": {
      "display_name": "Python 3",
      "name": "python3"
    },
    "language_info": {
      "name": "python"
    }
  },
  "nbformat": 4,
  "nbformat_minor": 0
}
