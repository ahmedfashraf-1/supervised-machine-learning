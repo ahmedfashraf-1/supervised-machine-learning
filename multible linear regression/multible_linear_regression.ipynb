{
  "cells": [
    {
      "cell_type": "code",
      "execution_count": 36,
      "metadata": {
        "id": "XhgMcGQlR4II"
      },
      "outputs": [],
      "source": [
        "import numpy as np\n",
        "import matplotlib.pyplot as plt\n",
        "import copy,math"
      ]
    },
    {
      "cell_type": "code",
      "execution_count": 37,
      "metadata": {
        "id": "hGchdYH9SMvl"
      },
      "outputs": [],
      "source": [
        "x_train=np.array([[2104,5,1,45],[1416,3,2,40],[852,2,1,35]])#features\n",
        "y_train=np.array([460,232,178])# actual output"
      ]
    },
    {
      "cell_type": "markdown",
      "metadata": {
        "id": "Lv8Izae0SnqM"
      },
      "source": [
        "---"
      ]
    },
    {
      "cell_type": "markdown",
      "metadata": {
        "id": "Hd040Da3SrnZ"
      },
      "source": [
        "#calc predict"
      ]
    },
    {
      "cell_type": "code",
      "execution_count": 38,
      "metadata": {
        "id": "gnLZ9x0WSqH1"
      },
      "outputs": [],
      "source": [
        "def calc_predict(x,w,b):\n",
        "    if x.ndim == 1:\n",
        "        return np.dot(x, w) + b\n",
        "    else:\n",
        "        m = x.shape[0]\n",
        "        f_wb = np.zeros(m)\n",
        "        for i in range(m):\n",
        "            f_wb[i] = np.dot(x[i], w) + b\n",
        "        return f_wb"
      ]
    },
    {
      "cell_type": "code",
      "execution_count": 39,
      "metadata": {
        "colab": {
          "base_uri": "https://localhost:8080/"
        },
        "id": "qUrcXXeiTDJG",
        "outputId": "418ccef1-85f6-4229-d304-926be3e3e4b6"
      },
      "outputs": [
        {
          "data": {
            "text/plain": [
              "np.float64(459.9999976194083)"
            ]
          },
          "execution_count": 39,
          "metadata": {},
          "output_type": "execute_result"
        }
      ],
      "source": [
        "b_init = 785.1811367994083\n",
        "w_init = np.array([0.39133535, 18.75376741, -53.36032453, -26.42131618])\n",
        "a=x_train[0,:]\n",
        "calc_predict(a,w_init,b_init)"
      ]
    },
    {
      "cell_type": "markdown",
      "metadata": {
        "id": "sNTDO4aZURF-"
      },
      "source": [
        "---"
      ]
    },
    {
      "cell_type": "markdown",
      "metadata": {
        "id": "inT7S-2_UTbU"
      },
      "source": [
        "#cost func"
      ]
    },
    {
      "cell_type": "code",
      "execution_count": 40,
      "metadata": {
        "id": "V-IhBseTUSJL"
      },
      "outputs": [],
      "source": [
        "def compute_cost(x,y,w,b):\n",
        "  m=x.shape[0]\n",
        "  cost=0\n",
        "  for i in range(m):\n",
        "    f_wb=np.dot(x[i],w)+b\n",
        "    cost+=(f_wb-y[i])**2\n",
        "  return cost/(2*m)"
      ]
    },
    {
      "cell_type": "code",
      "execution_count": 41,
      "metadata": {
        "colab": {
          "base_uri": "https://localhost:8080/"
        },
        "id": "GrBGh-ErUhAd",
        "outputId": "16ce02ca-c667-4b04-eb4f-8e524cfb91f8"
      },
      "outputs": [
        {
          "data": {
            "text/plain": [
              "np.float64(1.5578904428966628e-12)"
            ]
          },
          "execution_count": 41,
          "metadata": {},
          "output_type": "execute_result"
        }
      ],
      "source": [
        "compute_cost(x_train,y_train,w_init,b_init)"
      ]
    },
    {
      "cell_type": "markdown",
      "metadata": {
        "id": "BD_3prlZV0mP"
      },
      "source": [
        "---"
      ]
    },
    {
      "cell_type": "markdown",
      "metadata": {
        "id": "NUUB0XjFV1wE"
      },
      "source": [
        "#gradient descent"
      ]
    },
    {
      "cell_type": "code",
      "execution_count": null,
      "metadata": {
        "id": "e9xenrVBV47o"
      },
      "outputs": [],
      "source": [
        "def compute_gradient(x, y, w, b):\n",
        "    m, n = x.shape\n",
        "    dj_dw = np.zeros(n)\n",
        "    dj_db = 0\n",
        "    for i in range(m):\n",
        "        f_wb = np.dot(x[i], w) + b\n",
        "        error = f_wb - y[i]\n",
        "        for j in range(n):\n",
        "            dj_dw[j] += error * x[i][j]\n",
        "        dj_db += error\n",
        "    dj_dw /= m\n",
        "    dj_db /= m\n",
        "    return dj_dw, dj_db"
      ]
    },
    {
      "cell_type": "code",
      "execution_count": null,
      "metadata": {
        "id": "U3g0gtIiaOIy"
      },
      "outputs": [],
      "source": [
        "def gradient_descent(x, y, w_in, b_in, alpha, num_iters, cost_function, gradient_function):\n",
        "  j_history=[]\n",
        "  w=copy.deepcopy(w_in)\n",
        "  b=b_in\n",
        "  for i in range(num_iters):\n",
        "    dj_dw,dj_db=gradient_function(x,y,w,b)\n",
        "    w-=alpha*dj_dw\n",
        "    b-=alpha*dj_db\n",
        "    if i<100000:\n",
        "      j_history.append(cost_function(x,y,w,b))\n",
        "      if i% math.ceil(num_iters / 10) == 0:\n",
        "            print(f\"Iteration {i:4d}: Cost {j_history[-1]:8.2f}   \")\n",
        "  return w,b,j_history"
      ]
    },
    {
      "cell_type": "code",
      "execution_count": 44,
      "metadata": {
        "colab": {
          "base_uri": "https://localhost:8080/"
        },
        "id": "PDVAQEr7bJOm",
        "outputId": "381ab72d-32a8-4729-9ced-590e4288b2ff"
      },
      "outputs": [
        {
          "name": "stdout",
          "output_type": "stream",
          "text": [
            "Iteration    0: Cost     0.00   \n",
            "Iteration  100: Cost     0.00   \n",
            "Iteration  200: Cost     0.00   \n",
            "Iteration  300: Cost     0.00   \n",
            "Iteration  400: Cost     0.00   \n",
            "Iteration  500: Cost     0.00   \n",
            "Iteration  600: Cost     0.00   \n",
            "Iteration  700: Cost     0.00   \n",
            "Iteration  800: Cost     0.00   \n",
            "Iteration  900: Cost     0.00   \n",
            "b,w found by gradient descent: 785.18,[  0.39133535  18.75376741 -53.36032453 -26.42131618] \n",
            "prediction: 460.00, target value: 460\n",
            "prediction: 232.00, target value: 232\n",
            "prediction: 178.00, target value: 178\n"
          ]
        }
      ],
      "source": [
        "initial_w = np.zeros_like(w_init)\n",
        "initial_b = 0.\n",
        "iterations = 1000\n",
        "alpha = 5.0e-7\n",
        "w_final, b_final, J_hist = gradient_descent(x_train, y_train, w_init,b_init,\n",
        "                                                      alpha, iterations, compute_cost, compute_gradient)\n",
        "print(f\"b,w found by gradient descent: {b_final:0.2f},{w_final} \")\n",
        "m,_ = x_train.shape\n",
        "for i in range(m):\n",
        "    print(f\"prediction: {np.dot(x_train[i], w_final) + b_final:0.2f}, target value: {y_train[i]}\")"
      ]
    },
    {
      "cell_type": "code",
      "execution_count": 45,
      "metadata": {
        "colab": {
          "base_uri": "https://localhost:8080/",
          "height": 428
        },
        "id": "wmeqMEERbszC",
        "outputId": "2118e342-6484-4e9f-a8c9-cefd6a9c090f"
      },
      "outputs": [
        {
          "data": {
            "image/png": "[encoded data removed]",
            "text/plain": [
              "<Figure size 1200x400 with 2 Axes>"
            ]
          },
          "metadata": {},
          "output_type": "display_data"
        }
      ],
      "source": [
        "fig, (ax1, ax2) = plt.subplots(1, 2, constrained_layout=True, figsize=(12, 4))\n",
        "ax1.plot(J_hist)\n",
        "ax2.plot(100 + np.arange(len(J_hist[100:])), J_hist[100:])\n",
        "ax1.set_title(\"Cost vs. iteration\");  ax2.set_title(\"Cost vs. iteration (tail)\")\n",
        "ax1.set_ylabel('Cost')             ;  ax2.set_ylabel('Cost')\n",
        "ax1.set_xlabel('iteration step')   ;  ax2.set_xlabel('iteration step')\n",
        "plt.show()"
      ]
    }
  ],
  "metadata": {
    "colab": {
      "provenance": []
    },
    "kernelspec": {
      "display_name": "Python 3",
      "name": "python3"
    },
    "language_info": {
      "name": "python"
    }
  },
  "nbformat": 4,
  "nbformat_minor": 0
}
