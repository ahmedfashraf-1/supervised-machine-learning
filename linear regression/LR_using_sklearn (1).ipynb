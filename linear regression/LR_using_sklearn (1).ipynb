{
  "cells": [
    {
      "cell_type": "code",
      "execution_count": 12,
      "metadata": {
        "id": "sk_3s1IiD65n"
      },
      "outputs": [],
      "source": [
        "import numpy as np\n",
        "import pandas as pd\n",
        "import matplotlib.pyplot as plt\n",
        "from sklearn.linear_model import LinearRegression, SGDRegressor\n",
        "from sklearn.preprocessing import StandardScaler"
      ]
    },
    {
      "cell_type": "code",
      "execution_count": 4,
      "metadata": {
        "id": "env1GOKMEh37"
      },
      "outputs": [],
      "source": [
        "def load_house_data():\n",
        "    data = {\n",
        "        'size(sqft)': [1000, 1500, 800, 1200, 2000, 1700, 1300, 950, 1600, 1800],\n",
        "        'bedrooms':   [2, 3, 2, 3, 4, 3, 3, 2, 4, 4],\n",
        "        'floors':     [1, 2, 1, 1, 2, 2, 1, 1, 2, 2],\n",
        "        'age':        [10, 5, 20, 15, 3, 7, 12, 18, 6, 4],\n",
        "        'price':      [200000, 300000, 180000, 250000, 400000, 350000, 270000, 190000, 330000, 370000]\n",
        "    }\n",
        "\n",
        "    df = pd.DataFrame(data)\n",
        "    X = df[['size(sqft)', 'bedrooms', 'floors', 'age']]\n",
        "    y = df['price']\n",
        "    return X, y"
      ]
    },
    {
      "cell_type": "code",
      "execution_count": 5,
      "metadata": {
        "id": "zr2sRLoHEoRP"
      },
      "outputs": [],
      "source": [
        "X_train, y_train = load_house_data()\n",
        "X_features = ['size(sqft)', 'bedrooms', 'floors', 'age']"
      ]
    },
    {
      "cell_type": "code",
      "execution_count": 28,
      "metadata": {
        "colab": {
          "base_uri": "https://localhost:8080/"
        },
        "id": "2OTGKjlsJ2h2",
        "outputId": "4b2dcdec-9e3a-43cf-ed4f-543f1a5f4c2d"
      },
      "outputs": [
        {
          "name": "stdout",
          "output_type": "stream",
          "text": [
            "(10, 4)\n",
            "(10,)\n"
          ]
        }
      ],
      "source": [
        "print(X_train.shape)\n",
        "print(y_train.shape)"
      ]
    },
    {
      "cell_type": "code",
      "execution_count": 10,
      "metadata": {
        "colab": {
          "base_uri": "https://localhost:8080/"
        },
        "id": "SvdxjazYFKzo",
        "outputId": "c857b0ae-c9b7-48e0-8e63-aa6562c26346"
      },
      "outputs": [
        {
          "name": "stdout",
          "output_type": "stream",
          "text": [
            "Peak to Peak range by column in Raw        X:size(sqft)    1200\n",
            "bedrooms         2\n",
            "floors           1\n",
            "age             17\n",
            "dtype: int64\n",
            "Peak to Peak range by column in Normalized X:[3.17303796 2.5819889  2.         2.96832876]\n"
          ]
        }
      ],
      "source": [
        "scaler = StandardScaler() # srandardize for data mean=0 and standard =1\n",
        "X_norm = scaler.fit_transform(X_train) # x-mean//standard\n",
        "print(f\"Peak to Peak range by column in Raw        X:{np.ptp(X_train,axis=0)}\")\n",
        "print(f\"Peak to Peak range by column in Normalized X:{np.ptp(X_norm,axis=0)}\")"
      ]
    },
    {
      "cell_type": "code",
      "execution_count": null,
      "metadata": {
        "colab": {
          "base_uri": "https://localhost:8080/"
        },
        "id": "eJ7TF1yhGEdo",
        "outputId": "51a3fe19-0c74-4d68-d628-728cfe847360"
      },
      "outputs": [
        {
          "name": "stdout",
          "output_type": "stream",
          "text": [
            "number of iterations completed: 1000, number of weight updates: 10001.0\n"
          ]
        },
        {
          "name": "stderr",
          "output_type": "stream",
          "text": [
            "/usr/local/lib/python3.11/dist-packages/sklearn/linear_model/_stochastic_gradient.py:1608: ConvergenceWarning: Maximum number of iteration reached before convergence. Consider increasing max_iter to improve the fit.\n",
            "  warnings.warn(\n"
          ]
        }
      ],
      "source": [
        "#stochastic gradient descent\n",
        "sgdr = SGDRegressor(max_iter=1000)\n",
        "sgdr.fit(X_norm, y_train)\n",
        "print(f\"number of iterations completed: {sgdr.n_iter_}, number of weight updates: {sgdr.t_}\")"
      ]
    },
    {
      "cell_type": "code",
      "execution_count": 14,
      "metadata": {
        "colab": {
          "base_uri": "https://localhost:8080/"
        },
        "id": "xPjfzw93Gt_g",
        "outputId": "6f1ae660-f1a4-4f07-d18b-568e2d757b17"
      },
      "outputs": [
        {
          "data": {
            "text/plain": [
              "array([283997.40317282])"
            ]
          },
          "execution_count": 14,
          "metadata": {},
          "output_type": "execute_result"
        }
      ],
      "source": [
        "sgdr.intercept_"
      ]
    },
    {
      "cell_type": "code",
      "execution_count": 15,
      "metadata": {
        "colab": {
          "base_uri": "https://localhost:8080/"
        },
        "id": "bHgcS5XGG0Zb",
        "outputId": "01c0bf28-7605-4696-8477-015ac4faaae7"
      },
      "outputs": [
        {
          "data": {
            "text/plain": [
              "array([47179.9497219 , 17644.25884771,  8880.30576338, -2213.19075724])"
            ]
          },
          "execution_count": 15,
          "metadata": {},
          "output_type": "execute_result"
        }
      ],
      "source": [
        "sgdr.coef_"
      ]
    },
    {
      "cell_type": "code",
      "execution_count": 25,
      "metadata": {
        "id": "DfoNUbPYJKSn"
      },
      "outputs": [],
      "source": [
        "y_pred = sgdr.predict(X_norm)"
      ]
    },
    {
      "cell_type": "code",
      "execution_count": 31,
      "metadata": {
        "colab": {
          "base_uri": "https://localhost:8080/",
          "height": 321
        },
        "id": "7N-LeiyIG2LK",
        "outputId": "86fda8e3-5a94-4916-b9a5-52c7de4d01b4"
      },
      "outputs": [
        {
          "data": {
            "image/png": "[encoded data removed]",
            "text/plain": [
              "<Figure size 1200x300 with 4 Axes>"
            ]
          },
          "metadata": {},
          "output_type": "display_data"
        }
      ],
      "source": [
        "fig,ax=plt.subplots(1,4,figsize=(12,3),sharey=True)\n",
        "for i in range(len(ax)):\n",
        "    ax[i].scatter(X_train[X_features[i]],y_train, label = 'target')\n",
        "    ax[i].scatter(X_train[X_features[i]],y_pred,color='orange', label = 'predict')\n",
        "ax[0].set_ylabel(\"Price\")\n",
        "ax[0].legend()\n",
        "fig.suptitle(\"target versus prediction using z-score normalized model\")\n",
        "plt.show()"
      ]
    }
  ],
  "metadata": {
    "colab": {
      "provenance": []
    },
    "kernelspec": {
      "display_name": "Python 3",
      "name": "python3"
    },
    "language_info": {
      "name": "python"
    }
  },
  "nbformat": 4,
  "nbformat_minor": 0
}
